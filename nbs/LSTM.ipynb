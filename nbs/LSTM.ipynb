{
 "cells": [
  {
   "cell_type": "code",
   "execution_count": null,
   "id": "79027657",
   "metadata": {},
   "outputs": [],
   "source": [
    "#| default_exp LSTM"
   ]
  },
  {
   "cell_type": "markdown",
   "id": "f599886a",
   "metadata": {},
   "source": [
    "# LSTM"
   ]
  },
  {
   "cell_type": "markdown",
   "id": "0fb60629",
   "metadata": {},
   "source": [
    "> This page deals with LSTM "
   ]
  },
  {
   "cell_type": "code",
   "execution_count": null,
   "id": "6e26e45a",
   "metadata": {},
   "outputs": [],
   "source": [
    "#| hide\n",
    "import nbdev; nbdev.nbdev_export()"
   ]
  },
  {
   "cell_type": "code",
   "execution_count": null,
   "id": "4425d77e",
   "metadata": {},
   "outputs": [],
   "source": []
  }
 ],
 "metadata": {
  "kernelspec": {
   "display_name": "tensorflow",
   "language": "python",
   "name": "tensorflow"
  }
 },
 "nbformat": 4,
 "nbformat_minor": 5
}
