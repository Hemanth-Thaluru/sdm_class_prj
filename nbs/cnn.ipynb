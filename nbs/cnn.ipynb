{
 "cells": [
  {
   "cell_type": "code",
   "execution_count": null,
   "id": "b0a5dcb7",
   "metadata": {},
   "outputs": [],
   "source": [
    "#| default_exp cnn"
   ]
  },
  {
   "cell_type": "markdown",
   "id": "4fcb12d3",
   "metadata": {},
   "source": [
    "# CNN "
   ]
  },
  {
   "cell_type": "markdown",
   "id": "f66bd242",
   "metadata": {},
   "source": [
    "> This page delas about CNNs"
   ]
  },
  {
   "cell_type": "code",
   "execution_count": null,
   "id": "99bf8a30",
   "metadata": {},
   "outputs": [],
   "source": [
    "#| hide\n",
    "import nbdev; nbdev.nbdev_export()"
   ]
  },
  {
   "cell_type": "code",
   "execution_count": null,
   "id": "4182258a",
   "metadata": {},
   "outputs": [],
   "source": [
    "    "
   ]
  }
 ],
 "metadata": {
  "kernelspec": {
   "display_name": "tensorflow",
   "language": "python",
   "name": "tensorflow"
  }
 },
 "nbformat": 4,
 "nbformat_minor": 5
}
