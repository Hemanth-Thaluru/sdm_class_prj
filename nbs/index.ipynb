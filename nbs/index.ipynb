{
 "cells": [
  {
   "cell_type": "code",
   "execution_count": null,
   "metadata": {},
   "outputs": [],
   "source": [
    "#| hide\n",
    "# from sdm_class_prj.core import *"
   ]
  },
  {
   "cell_type": "markdown",
   "metadata": {},
   "source": [
    "# EAS 507\n",
    "\n",
    "> Prototype for Statistical Learning and Data Mining - I website "
   ]
  },
  {
   "cell_type": "markdown",
   "metadata": {},
   "source": [
    "This Page deals about the syllabus and Walkthrough of entire class throught for the year"
   ]
  },
  {
   "cell_type": "markdown",
   "metadata": {},
   "source": [
    "## EAS 595/508- Statistical Learning I\n",
    "```sh\n",
    "EAS 595/508- Statistical Learning I\n",
    "Delivery Mode: Inclass\n",
    "Location, Days and Times: MW 12:40-2:00\n",
    "Instructor: Proffesor name\n",
    "TA  : Ta name\n",
    "'email@buffalo.edu'\n",
    "```"
   ]
  },
  {
   "cell_type": "markdown",
   "metadata": {},
   "source": [
    "## Syllabus"
   ]
  },
  {
   "cell_type": "markdown",
   "metadata": {},
   "source": [
    "Downloadable file here"
   ]
  },
  {
   "cell_type": "markdown",
   "metadata": {},
   "source": [
    "```sh\n",
    "Syllabus pdf\n",
    "```"
   ]
  },
  {
   "cell_type": "markdown",
   "metadata": {},
   "source": [
    "## Course Description\n",
    "\n",
    "This course is a mathematically rigorous introduction to the theory and computational \n",
    "implementation of techniques at the heart of statistical learning in engineering applications. \n",
    "This first semester considers supervised learning, including an introduction to dimension \n",
    "reduction, PCA, pPCA, ICA, regression and regularization, latent variable methods, cross \n",
    "validation, class imbalance, support vector machines, k-nearest neighbors, Naive Bayes, logistic \n",
    "regression, ensemble methods including bagging, boosting, and random forests, conditional \n",
    "inference, tree methods including CART and BART, Gaussian processes classifiers, and neural \n",
    "networks (e.g. DNN, ANN, CNN). These techniques will be taught with and illustrated in a wide \n",
    "range of engineering applications as well as other publicly available data sets. \n",
    "We will use the R programming language. Students should download R or RStudio onto their \n",
    "computer before the first class.\n",
    "This course mostly follows a traditional lecture format. However, there will be live online coding \n",
    "demonstrations and exercises; some portion of quizzes will include coding questions."
   ]
  },
  {
   "cell_type": "markdown",
   "metadata": {},
   "source": [
    "Fill me in please! Don't forget code examples:"
   ]
  },
  {
   "cell_type": "markdown",
   "metadata": {},
   "source": [
    "##  Grading\n",
    "```sh\n",
    "Grading Details\n",
    "```\n"
   ]
  },
  {
   "cell_type": "markdown",
   "metadata": {},
   "source": [
    "## Approximate Timetable of Lectures\n",
    ">Week 1 Introduction to R:  Introduction to statistical learning in engineering; elementary \n",
    "probability and linear algebra\n",
    "\n",
    ">week 2: Elementary probability and linear algebra; conditional probability; Bayes \n",
    "theorem; Introduction to supervised learning\n",
    "\n",
    ">Week 3: Basic regression, generalized least squares, and data fitting; Bayesian regression; \n",
    "regularization\n",
    "\n",
    ">Week 4: PCA, pPCA, ICA\n",
    "\n",
    ">Week 5:Geometry-based methods: kNN, SVM; transforms and kernels, neighborhood\n",
    "\n",
    ">Week 6:Convergence and mis-classification; cross validation and testing\n",
    "\n",
    ">Week 7: Naïve Bayes,Laplace approximation; generative vs discriminative models; \n",
    "Bayesian logistic regression; comparison of methods\n",
    "\n",
    ">Week 8:Tree methods; CART, BART\n"
   ]
  },
  {
   "cell_type": "markdown",
   "metadata": {},
   "source": [
    "## Student Learning Outcomes\n",
    "\n",
    "At the conclusion of this course students will be able to: understand and describe the process of \n",
    "classification, regression, and dimension reduction; describe and implement several statistical \n",
    "learning techniques to analyze and interpret data; analyze and solve statistical learning \n",
    "problems in an engineering setting; effectively communicate an engineering approach to\n",
    "statistical learning problems"
   ]
  },
  {
   "cell_type": "markdown",
   "metadata": {},
   "source": [
    "## Academic Integrity\n",
    "Academic integrity is a fundamental university value. Through the honest completion of \n",
    "academic work, students sustain the integrity of the university and of themselves while \n",
    "facilitating the university’s imperative for the transmission of knowledge and culture based \n",
    "upon the generation of new and innovative ideas. See the University at Buffalo’s Graduate \n",
    "Academic Integrity policy at:"
   ]
  },
  {
   "cell_type": "code",
   "execution_count": null,
   "metadata": {},
   "outputs": [],
   "source": []
  }
 ],
 "metadata": {
  "kernelspec": {
   "display_name": "python3",
   "language": "python",
   "name": "python3"
  }
 },
 "nbformat": 4,
 "nbformat_minor": 4
}
